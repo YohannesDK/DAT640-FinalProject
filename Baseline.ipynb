{
 "cells": [
  {
   "cell_type": "markdown",
   "metadata": {},
   "source": [
    "# SeMantic AnsweR Type prediction task"
   ]
  },
  {
   "cell_type": "code",
   "execution_count": 70,
   "metadata": {},
   "outputs": [],
   "source": [
    "import pandas as pd\n",
    "import numpy as np\n",
    "from sklearn.pipeline import Pipeline\n",
    "from sklearn.feature_extraction.text import CountVectorizer, TfidfVectorizer\n",
    "from sklearn.svm import SVC\n",
    "from sklearn.metrics import roc_auc_score, accuracy_score"
   ]
  },
  {
   "cell_type": "code",
   "execution_count": 106,
   "metadata": {},
   "outputs": [],
   "source": [
    "train_data = pd.read_json(\"./datasets/DBpedia/smarttask_dbpedia_train.json\")\n",
    "test_data = pd.read_json(\"./datasets/DBpedia/smarttask_dbpedia_test.json\")"
   ]
  },
  {
   "cell_type": "code",
   "execution_count": 107,
   "metadata": {},
   "outputs": [
    {
     "data": {
      "text/html": [
       "<div>\n",
       "<style scoped>\n",
       "    .dataframe tbody tr th:only-of-type {\n",
       "        vertical-align: middle;\n",
       "    }\n",
       "\n",
       "    .dataframe tbody tr th {\n",
       "        vertical-align: top;\n",
       "    }\n",
       "\n",
       "    .dataframe thead th {\n",
       "        text-align: right;\n",
       "    }\n",
       "</style>\n",
       "<table border=\"1\" class=\"dataframe\">\n",
       "  <thead>\n",
       "    <tr style=\"text-align: right;\">\n",
       "      <th></th>\n",
       "      <th>id</th>\n",
       "      <th>question</th>\n",
       "      <th>category</th>\n",
       "      <th>type</th>\n",
       "    </tr>\n",
       "  </thead>\n",
       "  <tbody>\n",
       "    <tr>\n",
       "      <th>0</th>\n",
       "      <td>dbpedia_1177</td>\n",
       "      <td>Was Jacqueline Kennedy Onassis a follower of M...</td>\n",
       "      <td>boolean</td>\n",
       "      <td>[boolean]</td>\n",
       "    </tr>\n",
       "    <tr>\n",
       "      <th>1</th>\n",
       "      <td>dbpedia_14427</td>\n",
       "      <td>What is the name of the opera based on Twelfth...</td>\n",
       "      <td>resource</td>\n",
       "      <td>[dbo:Opera, dbo:MusicalWork, dbo:Work]</td>\n",
       "    </tr>\n",
       "    <tr>\n",
       "      <th>2</th>\n",
       "      <td>dbpedia_16615</td>\n",
       "      <td>When did Lena Horne receive the Grammy Award f...</td>\n",
       "      <td>literal</td>\n",
       "      <td>[date]</td>\n",
       "    </tr>\n",
       "    <tr>\n",
       "      <th>3</th>\n",
       "      <td>dbpedia_23480</td>\n",
       "      <td>Do Prince Harry and Prince William have the sa...</td>\n",
       "      <td>boolean</td>\n",
       "      <td>[boolean]</td>\n",
       "    </tr>\n",
       "    <tr>\n",
       "      <th>4</th>\n",
       "      <td>dbpedia_3681</td>\n",
       "      <td>What is the subsidiary company working for Leo...</td>\n",
       "      <td>resource</td>\n",
       "      <td>[dbo:EducationalInstitution, dbo:Organisation,...</td>\n",
       "    </tr>\n",
       "  </tbody>\n",
       "</table>\n",
       "</div>"
      ],
      "text/plain": [
       "              id                                           question  category  \\\n",
       "0   dbpedia_1177  Was Jacqueline Kennedy Onassis a follower of M...   boolean   \n",
       "1  dbpedia_14427  What is the name of the opera based on Twelfth...  resource   \n",
       "2  dbpedia_16615  When did Lena Horne receive the Grammy Award f...   literal   \n",
       "3  dbpedia_23480  Do Prince Harry and Prince William have the sa...   boolean   \n",
       "4   dbpedia_3681  What is the subsidiary company working for Leo...  resource   \n",
       "\n",
       "                                                type  \n",
       "0                                          [boolean]  \n",
       "1             [dbo:Opera, dbo:MusicalWork, dbo:Work]  \n",
       "2                                             [date]  \n",
       "3                                          [boolean]  \n",
       "4  [dbo:EducationalInstitution, dbo:Organisation,...  "
      ]
     },
     "execution_count": 107,
     "metadata": {},
     "output_type": "execute_result"
    }
   ],
   "source": [
    "train_data.head()"
   ]
  },
  {
   "cell_type": "code",
   "execution_count": 108,
   "metadata": {},
   "outputs": [
    {
     "data": {
      "text/html": [
       "<div>\n",
       "<style scoped>\n",
       "    .dataframe tbody tr th:only-of-type {\n",
       "        vertical-align: middle;\n",
       "    }\n",
       "\n",
       "    .dataframe tbody tr th {\n",
       "        vertical-align: top;\n",
       "    }\n",
       "\n",
       "    .dataframe thead th {\n",
       "        text-align: right;\n",
       "    }\n",
       "</style>\n",
       "<table border=\"1\" class=\"dataframe\">\n",
       "  <thead>\n",
       "    <tr style=\"text-align: right;\">\n",
       "      <th></th>\n",
       "      <th>id</th>\n",
       "      <th>question</th>\n",
       "      <th>category</th>\n",
       "      <th>type</th>\n",
       "    </tr>\n",
       "  </thead>\n",
       "  <tbody>\n",
       "    <tr>\n",
       "      <th>0</th>\n",
       "      <td>dbpedia_16015</td>\n",
       "      <td>How many ingredients are in the grain} ?</td>\n",
       "      <td>literal</td>\n",
       "      <td>[number]</td>\n",
       "    </tr>\n",
       "    <tr>\n",
       "      <th>1</th>\n",
       "      <td>dbpedia_3885</td>\n",
       "      <td>Is the case fatality rate of Fournier gangrene...</td>\n",
       "      <td>boolean</td>\n",
       "      <td>[boolean]</td>\n",
       "    </tr>\n",
       "    <tr>\n",
       "      <th>2</th>\n",
       "      <td>dbpedia_12907</td>\n",
       "      <td>Does the shelf life of spinach equal 8?</td>\n",
       "      <td>boolean</td>\n",
       "      <td>[boolean]</td>\n",
       "    </tr>\n",
       "    <tr>\n",
       "      <th>3</th>\n",
       "      <td>dbpedia_7955</td>\n",
       "      <td>What sound does a pig make in the French langu...</td>\n",
       "      <td>literal</td>\n",
       "      <td>[string]</td>\n",
       "    </tr>\n",
       "    <tr>\n",
       "      <th>4</th>\n",
       "      <td>dbpedia_2376</td>\n",
       "      <td>When was Fergie completed his record label in ...</td>\n",
       "      <td>literal</td>\n",
       "      <td>[date]</td>\n",
       "    </tr>\n",
       "  </tbody>\n",
       "</table>\n",
       "</div>"
      ],
      "text/plain": [
       "              id                                           question category  \\\n",
       "0  dbpedia_16015           How many ingredients are in the grain} ?  literal   \n",
       "1   dbpedia_3885  Is the case fatality rate of Fournier gangrene...  boolean   \n",
       "2  dbpedia_12907            Does the shelf life of spinach equal 8?  boolean   \n",
       "3   dbpedia_7955  What sound does a pig make in the French langu...  literal   \n",
       "4   dbpedia_2376  When was Fergie completed his record label in ...  literal   \n",
       "\n",
       "        type  \n",
       "0   [number]  \n",
       "1  [boolean]  \n",
       "2  [boolean]  \n",
       "3   [string]  \n",
       "4     [date]  "
      ]
     },
     "execution_count": 108,
     "metadata": {},
     "output_type": "execute_result"
    }
   ],
   "source": [
    "test_data.head()"
   ]
  },
  {
   "cell_type": "code",
   "execution_count": 113,
   "metadata": {},
   "outputs": [
    {
     "name": "stdout",
     "output_type": "stream",
     "text": [
      "123\n",
      "123\n",
      "(17571, 4) (4381, 4)\n"
     ]
    }
   ],
   "source": [
    "print(len(np.intersect1d(train_data['id'].unique(), test_data['id'].unique())))\n",
    "print(len(np.intersect1d(test_data['id'].unique(), train_data['id'].unique())))\n",
    "print(train_data.shape, test_data.shape)"
   ]
  },
  {
   "cell_type": "markdown",
   "metadata": {},
   "source": [
    "As we see there are some duplicates between the training and test data, but they are less then 1% percent so we can ignore them."
   ]
  },
  {
   "cell_type": "markdown",
   "metadata": {},
   "source": [
    "## Preprocessing"
   ]
  },
  {
   "cell_type": "code",
   "execution_count": 74,
   "metadata": {},
   "outputs": [
    {
     "data": {
      "text/plain": [
       "resource    9584\n",
       "literal     5188\n",
       "boolean     2799\n",
       "Name: category, dtype: int64"
      ]
     },
     "execution_count": 74,
     "metadata": {},
     "output_type": "execute_result"
    }
   ],
   "source": [
    "train_data.category.value_counts()"
   ]
  },
  {
   "cell_type": "markdown",
   "metadata": {},
   "source": [
    "### Remove null values"
   ]
  },
  {
   "cell_type": "code",
   "execution_count": 75,
   "metadata": {},
   "outputs": [
    {
     "data": {
      "text/plain": [
       "id          0\n",
       "question    0\n",
       "category    0\n",
       "type        0\n",
       "dtype: int64"
      ]
     },
     "execution_count": 75,
     "metadata": {},
     "output_type": "execute_result"
    }
   ],
   "source": [
    "# check for null values\n",
    "train_data = train_data.dropna()\n",
    "train_data.isnull().sum()"
   ]
  },
  {
   "cell_type": "code",
   "execution_count": 76,
   "metadata": {},
   "outputs": [
    {
     "data": {
      "text/plain": [
       "id          0\n",
       "question    0\n",
       "category    0\n",
       "type        0\n",
       "dtype: int64"
      ]
     },
     "execution_count": 76,
     "metadata": {},
     "output_type": "execute_result"
    }
   ],
   "source": [
    "test_data.isnull().sum()"
   ]
  },
  {
   "cell_type": "markdown",
   "metadata": {},
   "source": [
    "## Category Prediction"
   ]
  },
  {
   "cell_type": "code",
   "execution_count": 77,
   "metadata": {},
   "outputs": [],
   "source": [
    "def ExtractCategoryData(df, test=False):\n",
    "    return df[[\"id\", \"question\", \"category\"]] if not test else df[[\"id\", \"question\"]]"
   ]
  },
  {
   "cell_type": "code",
   "execution_count": 78,
   "metadata": {},
   "outputs": [
    {
     "data": {
      "text/html": [
       "<div>\n",
       "<style scoped>\n",
       "    .dataframe tbody tr th:only-of-type {\n",
       "        vertical-align: middle;\n",
       "    }\n",
       "\n",
       "    .dataframe tbody tr th {\n",
       "        vertical-align: top;\n",
       "    }\n",
       "\n",
       "    .dataframe thead th {\n",
       "        text-align: right;\n",
       "    }\n",
       "</style>\n",
       "<table border=\"1\" class=\"dataframe\">\n",
       "  <thead>\n",
       "    <tr style=\"text-align: right;\">\n",
       "      <th></th>\n",
       "      <th>id</th>\n",
       "      <th>question</th>\n",
       "      <th>category</th>\n",
       "    </tr>\n",
       "  </thead>\n",
       "  <tbody>\n",
       "    <tr>\n",
       "      <th>0</th>\n",
       "      <td>dbpedia_1177</td>\n",
       "      <td>Was Jacqueline Kennedy Onassis a follower of M...</td>\n",
       "      <td>boolean</td>\n",
       "    </tr>\n",
       "    <tr>\n",
       "      <th>1</th>\n",
       "      <td>dbpedia_14427</td>\n",
       "      <td>What is the name of the opera based on Twelfth...</td>\n",
       "      <td>resource</td>\n",
       "    </tr>\n",
       "    <tr>\n",
       "      <th>2</th>\n",
       "      <td>dbpedia_16615</td>\n",
       "      <td>When did Lena Horne receive the Grammy Award f...</td>\n",
       "      <td>literal</td>\n",
       "    </tr>\n",
       "    <tr>\n",
       "      <th>3</th>\n",
       "      <td>dbpedia_23480</td>\n",
       "      <td>Do Prince Harry and Prince William have the sa...</td>\n",
       "      <td>boolean</td>\n",
       "    </tr>\n",
       "    <tr>\n",
       "      <th>4</th>\n",
       "      <td>dbpedia_3681</td>\n",
       "      <td>What is the subsidiary company working for Leo...</td>\n",
       "      <td>resource</td>\n",
       "    </tr>\n",
       "  </tbody>\n",
       "</table>\n",
       "</div>"
      ],
      "text/plain": [
       "              id                                           question  category\n",
       "0   dbpedia_1177  Was Jacqueline Kennedy Onassis a follower of M...   boolean\n",
       "1  dbpedia_14427  What is the name of the opera based on Twelfth...  resource\n",
       "2  dbpedia_16615  When did Lena Horne receive the Grammy Award f...   literal\n",
       "3  dbpedia_23480  Do Prince Harry and Prince William have the sa...   boolean\n",
       "4   dbpedia_3681  What is the subsidiary company working for Leo...  resource"
      ]
     },
     "execution_count": 78,
     "metadata": {},
     "output_type": "execute_result"
    }
   ],
   "source": [
    "train_category_data = ExtractCategoryData(train_data)\n",
    "train_category_data.head()"
   ]
  },
  {
   "cell_type": "code",
   "execution_count": 79,
   "metadata": {},
   "outputs": [],
   "source": [
    "feature_extraction = TfidfVectorizer()\n",
    "X_train = feature_extraction.fit_transform(train_category_data.question)\n",
    "Y_train = train_category_data.category"
   ]
  },
  {
   "cell_type": "code",
   "execution_count": 80,
   "metadata": {},
   "outputs": [
    {
     "data": {
      "text/plain": [
       "SVC(probability=True)"
      ]
     },
     "execution_count": 80,
     "metadata": {},
     "output_type": "execute_result"
    }
   ],
   "source": [
    "# train classifier\n",
    "clf = SVC(probability=True, kernel='rbf')\n",
    "clf.fit(X_train, Y_train)"
   ]
  },
  {
   "cell_type": "markdown",
   "metadata": {},
   "source": [
    "### Evaluation"
   ]
  },
  {
   "cell_type": "code",
   "execution_count": 81,
   "metadata": {},
   "outputs": [],
   "source": [
    "X_test = feature_extraction.transform(test_data.question)\n",
    "category_predictions = clf.predict(X_test)"
   ]
  },
  {
   "cell_type": "code",
   "execution_count": 82,
   "metadata": {},
   "outputs": [],
   "source": [
    "Y_test = test_data.category"
   ]
  },
  {
   "cell_type": "code",
   "execution_count": 83,
   "metadata": {},
   "outputs": [
    {
     "data": {
      "text/plain": [
       "array(['literal', 'boolean', 'boolean', ..., 'resource', 'resource',\n",
       "       'literal'], dtype=object)"
      ]
     },
     "execution_count": 83,
     "metadata": {},
     "output_type": "execute_result"
    }
   ],
   "source": [
    "category_predictions"
   ]
  },
  {
   "cell_type": "code",
   "execution_count": 84,
   "metadata": {},
   "outputs": [
    {
     "data": {
      "text/html": [
       "<div>\n",
       "<style scoped>\n",
       "    .dataframe tbody tr th:only-of-type {\n",
       "        vertical-align: middle;\n",
       "    }\n",
       "\n",
       "    .dataframe tbody tr th {\n",
       "        vertical-align: top;\n",
       "    }\n",
       "\n",
       "    .dataframe thead th {\n",
       "        text-align: right;\n",
       "    }\n",
       "</style>\n",
       "<table border=\"1\" class=\"dataframe\">\n",
       "  <thead>\n",
       "    <tr style=\"text-align: right;\">\n",
       "      <th></th>\n",
       "      <th>id</th>\n",
       "      <th>question</th>\n",
       "      <th>category</th>\n",
       "      <th>type</th>\n",
       "      <th>category_predicted</th>\n",
       "    </tr>\n",
       "  </thead>\n",
       "  <tbody>\n",
       "    <tr>\n",
       "      <th>0</th>\n",
       "      <td>dbpedia_16015</td>\n",
       "      <td>How many ingredients are in the grain} ?</td>\n",
       "      <td>literal</td>\n",
       "      <td>[number]</td>\n",
       "      <td>literal</td>\n",
       "    </tr>\n",
       "    <tr>\n",
       "      <th>1</th>\n",
       "      <td>dbpedia_3885</td>\n",
       "      <td>Is the case fatality rate of Fournier gangrene...</td>\n",
       "      <td>boolean</td>\n",
       "      <td>[boolean]</td>\n",
       "      <td>boolean</td>\n",
       "    </tr>\n",
       "    <tr>\n",
       "      <th>2</th>\n",
       "      <td>dbpedia_12907</td>\n",
       "      <td>Does the shelf life of spinach equal 8?</td>\n",
       "      <td>boolean</td>\n",
       "      <td>[boolean]</td>\n",
       "      <td>boolean</td>\n",
       "    </tr>\n",
       "    <tr>\n",
       "      <th>3</th>\n",
       "      <td>dbpedia_7955</td>\n",
       "      <td>What sound does a pig make in the French langu...</td>\n",
       "      <td>literal</td>\n",
       "      <td>[string]</td>\n",
       "      <td>resource</td>\n",
       "    </tr>\n",
       "    <tr>\n",
       "      <th>4</th>\n",
       "      <td>dbpedia_2376</td>\n",
       "      <td>When was Fergie completed his record label in ...</td>\n",
       "      <td>literal</td>\n",
       "      <td>[date]</td>\n",
       "      <td>literal</td>\n",
       "    </tr>\n",
       "  </tbody>\n",
       "</table>\n",
       "</div>"
      ],
      "text/plain": [
       "              id                                           question category  \\\n",
       "0  dbpedia_16015           How many ingredients are in the grain} ?  literal   \n",
       "1   dbpedia_3885  Is the case fatality rate of Fournier gangrene...  boolean   \n",
       "2  dbpedia_12907            Does the shelf life of spinach equal 8?  boolean   \n",
       "3   dbpedia_7955  What sound does a pig make in the French langu...  literal   \n",
       "4   dbpedia_2376  When was Fergie completed his record label in ...  literal   \n",
       "\n",
       "        type category_predicted  \n",
       "0   [number]            literal  \n",
       "1  [boolean]            boolean  \n",
       "2  [boolean]            boolean  \n",
       "3   [string]           resource  \n",
       "4     [date]            literal  "
      ]
     },
     "execution_count": 84,
     "metadata": {},
     "output_type": "execute_result"
    }
   ],
   "source": [
    "# add predictions to test data\n",
    "test_data[\"category_predicted\"] = category_predictions\n",
    "test_data.head()"
   ]
  },
  {
   "cell_type": "code",
   "execution_count": 85,
   "metadata": {},
   "outputs": [
    {
     "name": "stdout",
     "output_type": "stream",
     "text": [
      "SVM Accuracy Score ->  93.35768089477288\n"
     ]
    }
   ],
   "source": [
    "print(\"SVM Accuracy Score -> \", accuracy_score(category_predictions, Y_test)*100)"
   ]
  },
  {
   "cell_type": "markdown",
   "metadata": {},
   "source": [
    "## Type Prediction"
   ]
  },
  {
   "cell_type": "code",
   "execution_count": 86,
   "metadata": {},
   "outputs": [
    {
     "data": {
      "text/html": [
       "<div>\n",
       "<style scoped>\n",
       "    .dataframe tbody tr th:only-of-type {\n",
       "        vertical-align: middle;\n",
       "    }\n",
       "\n",
       "    .dataframe tbody tr th {\n",
       "        vertical-align: top;\n",
       "    }\n",
       "\n",
       "    .dataframe thead th {\n",
       "        text-align: right;\n",
       "    }\n",
       "</style>\n",
       "<table border=\"1\" class=\"dataframe\">\n",
       "  <thead>\n",
       "    <tr style=\"text-align: right;\">\n",
       "      <th></th>\n",
       "      <th>id</th>\n",
       "      <th>question</th>\n",
       "      <th>category</th>\n",
       "      <th>type</th>\n",
       "    </tr>\n",
       "  </thead>\n",
       "  <tbody>\n",
       "    <tr>\n",
       "      <th>0</th>\n",
       "      <td>dbpedia_1177</td>\n",
       "      <td>Was Jacqueline Kennedy Onassis a follower of M...</td>\n",
       "      <td>boolean</td>\n",
       "      <td>[boolean]</td>\n",
       "    </tr>\n",
       "    <tr>\n",
       "      <th>1</th>\n",
       "      <td>dbpedia_14427</td>\n",
       "      <td>What is the name of the opera based on Twelfth...</td>\n",
       "      <td>resource</td>\n",
       "      <td>[dbo:Opera, dbo:MusicalWork, dbo:Work]</td>\n",
       "    </tr>\n",
       "  </tbody>\n",
       "</table>\n",
       "</div>"
      ],
      "text/plain": [
       "              id                                           question  category  \\\n",
       "0   dbpedia_1177  Was Jacqueline Kennedy Onassis a follower of M...   boolean   \n",
       "1  dbpedia_14427  What is the name of the opera based on Twelfth...  resource   \n",
       "\n",
       "                                     type  \n",
       "0                               [boolean]  \n",
       "1  [dbo:Opera, dbo:MusicalWork, dbo:Work]  "
      ]
     },
     "execution_count": 86,
     "metadata": {},
     "output_type": "execute_result"
    }
   ],
   "source": [
    "train_data.head(2)"
   ]
  },
  {
   "cell_type": "code",
   "execution_count": 87,
   "metadata": {},
   "outputs": [
    {
     "data": {
      "text/html": [
       "<div>\n",
       "<style scoped>\n",
       "    .dataframe tbody tr th:only-of-type {\n",
       "        vertical-align: middle;\n",
       "    }\n",
       "\n",
       "    .dataframe tbody tr th {\n",
       "        vertical-align: top;\n",
       "    }\n",
       "\n",
       "    .dataframe thead th {\n",
       "        text-align: right;\n",
       "    }\n",
       "</style>\n",
       "<table border=\"1\" class=\"dataframe\">\n",
       "  <thead>\n",
       "    <tr style=\"text-align: right;\">\n",
       "      <th></th>\n",
       "      <th>id</th>\n",
       "      <th>question</th>\n",
       "      <th>category</th>\n",
       "      <th>type</th>\n",
       "      <th>category_predicted</th>\n",
       "    </tr>\n",
       "  </thead>\n",
       "  <tbody>\n",
       "    <tr>\n",
       "      <th>0</th>\n",
       "      <td>dbpedia_16015</td>\n",
       "      <td>How many ingredients are in the grain} ?</td>\n",
       "      <td>literal</td>\n",
       "      <td>[number]</td>\n",
       "      <td>literal</td>\n",
       "    </tr>\n",
       "    <tr>\n",
       "      <th>1</th>\n",
       "      <td>dbpedia_3885</td>\n",
       "      <td>Is the case fatality rate of Fournier gangrene...</td>\n",
       "      <td>boolean</td>\n",
       "      <td>[boolean]</td>\n",
       "      <td>boolean</td>\n",
       "    </tr>\n",
       "  </tbody>\n",
       "</table>\n",
       "</div>"
      ],
      "text/plain": [
       "              id                                           question category  \\\n",
       "0  dbpedia_16015           How many ingredients are in the grain} ?  literal   \n",
       "1   dbpedia_3885  Is the case fatality rate of Fournier gangrene...  boolean   \n",
       "\n",
       "        type category_predicted  \n",
       "0   [number]            literal  \n",
       "1  [boolean]            boolean  "
      ]
     },
     "execution_count": 87,
     "metadata": {},
     "output_type": "execute_result"
    }
   ],
   "source": [
    "test_data.head(2)"
   ]
  },
  {
   "cell_type": "markdown",
   "metadata": {},
   "source": [
    "Build dataframe of types, and their frequency"
   ]
  },
  {
   "cell_type": "code",
   "execution_count": 88,
   "metadata": {},
   "outputs": [
    {
     "data": {
      "text/html": [
       "<div>\n",
       "<style scoped>\n",
       "    .dataframe tbody tr th:only-of-type {\n",
       "        vertical-align: middle;\n",
       "    }\n",
       "\n",
       "    .dataframe tbody tr th {\n",
       "        vertical-align: top;\n",
       "    }\n",
       "\n",
       "    .dataframe thead th {\n",
       "        text-align: right;\n",
       "    }\n",
       "</style>\n",
       "<table border=\"1\" class=\"dataframe\">\n",
       "  <thead>\n",
       "    <tr style=\"text-align: right;\">\n",
       "      <th></th>\n",
       "      <th>freq</th>\n",
       "    </tr>\n",
       "    <tr>\n",
       "      <th>type</th>\n",
       "      <th></th>\n",
       "    </tr>\n",
       "  </thead>\n",
       "  <tbody>\n",
       "    <tr>\n",
       "      <th>dbo:Agent</th>\n",
       "      <td>4179</td>\n",
       "    </tr>\n",
       "    <tr>\n",
       "      <th>boolean</th>\n",
       "      <td>2799</td>\n",
       "    </tr>\n",
       "    <tr>\n",
       "      <th>dbo:Person</th>\n",
       "      <td>2713</td>\n",
       "    </tr>\n",
       "    <tr>\n",
       "      <th>dbo:Place</th>\n",
       "      <td>2244</td>\n",
       "    </tr>\n",
       "    <tr>\n",
       "      <th>dbo:Location</th>\n",
       "      <td>2244</td>\n",
       "    </tr>\n",
       "  </tbody>\n",
       "</table>\n",
       "</div>"
      ],
      "text/plain": [
       "              freq\n",
       "type              \n",
       "dbo:Agent     4179\n",
       "boolean       2799\n",
       "dbo:Person    2713\n",
       "dbo:Place     2244\n",
       "dbo:Location  2244"
      ]
     },
     "execution_count": 88,
     "metadata": {},
     "output_type": "execute_result"
    }
   ],
   "source": [
    "answer_type_frequencies = pd.DataFrame.from_dict(train_data.type.apply(pd.Series).stack().value_counts().to_dict(), orient='index', columns=[\"freq\"]).reset_index()\n",
    "answer_type_frequencies.columns = [\"type\", \"freq\"]\n",
    "answer_type_frequencies = answer_type_frequencies.set_index(\"type\")\n",
    "answer_type_frequencies.head()"
   ]
  },
  {
   "cell_type": "markdown",
   "metadata": {},
   "source": [
    "We want to train our model to predict the type of a question, using a set of most frequent types."
   ]
  },
  {
   "cell_type": "code",
   "execution_count": 89,
   "metadata": {},
   "outputs": [],
   "source": [
    "answer_type_frequencies_sorted = answer_type_frequencies.sort_values(by=\"freq\", ascending=False).to_dict()[\"freq\"]"
   ]
  },
  {
   "cell_type": "code",
   "execution_count": 90,
   "metadata": {},
   "outputs": [],
   "source": [
    "def Extract_Most_Frequent_Answer_Type(types, answer_type_frequencies_sorted):\n",
    "    for answer_type in sorted(answer_type_frequencies_sorted, key=answer_type_frequencies_sorted.get, reverse=True):\n",
    "        if answer_type_frequencies_sorted[answer_type] < 1000 and answer_type in types:\n",
    "            return answer_type\n",
    "        else:\n",
    "            if answer_type in types:\n",
    "                return answer_type"
   ]
  },
  {
   "cell_type": "code",
   "execution_count": 91,
   "metadata": {},
   "outputs": [
    {
     "data": {
      "text/html": [
       "<div>\n",
       "<style scoped>\n",
       "    .dataframe tbody tr th:only-of-type {\n",
       "        vertical-align: middle;\n",
       "    }\n",
       "\n",
       "    .dataframe tbody tr th {\n",
       "        vertical-align: top;\n",
       "    }\n",
       "\n",
       "    .dataframe thead th {\n",
       "        text-align: right;\n",
       "    }\n",
       "</style>\n",
       "<table border=\"1\" class=\"dataframe\">\n",
       "  <thead>\n",
       "    <tr style=\"text-align: right;\">\n",
       "      <th></th>\n",
       "      <th>id</th>\n",
       "      <th>question</th>\n",
       "      <th>category</th>\n",
       "      <th>type</th>\n",
       "      <th>freq_type</th>\n",
       "    </tr>\n",
       "  </thead>\n",
       "  <tbody>\n",
       "    <tr>\n",
       "      <th>0</th>\n",
       "      <td>dbpedia_1177</td>\n",
       "      <td>Was Jacqueline Kennedy Onassis a follower of M...</td>\n",
       "      <td>boolean</td>\n",
       "      <td>[boolean]</td>\n",
       "      <td>boolean</td>\n",
       "    </tr>\n",
       "    <tr>\n",
       "      <th>1</th>\n",
       "      <td>dbpedia_14427</td>\n",
       "      <td>What is the name of the opera based on Twelfth...</td>\n",
       "      <td>resource</td>\n",
       "      <td>[dbo:Opera, dbo:MusicalWork, dbo:Work]</td>\n",
       "      <td>dbo:Work</td>\n",
       "    </tr>\n",
       "    <tr>\n",
       "      <th>2</th>\n",
       "      <td>dbpedia_16615</td>\n",
       "      <td>When did Lena Horne receive the Grammy Award f...</td>\n",
       "      <td>literal</td>\n",
       "      <td>[date]</td>\n",
       "      <td>date</td>\n",
       "    </tr>\n",
       "    <tr>\n",
       "      <th>3</th>\n",
       "      <td>dbpedia_23480</td>\n",
       "      <td>Do Prince Harry and Prince William have the sa...</td>\n",
       "      <td>boolean</td>\n",
       "      <td>[boolean]</td>\n",
       "      <td>boolean</td>\n",
       "    </tr>\n",
       "    <tr>\n",
       "      <th>4</th>\n",
       "      <td>dbpedia_3681</td>\n",
       "      <td>What is the subsidiary company working for Leo...</td>\n",
       "      <td>resource</td>\n",
       "      <td>[dbo:EducationalInstitution, dbo:Organisation,...</td>\n",
       "      <td>dbo:Agent</td>\n",
       "    </tr>\n",
       "  </tbody>\n",
       "</table>\n",
       "</div>"
      ],
      "text/plain": [
       "              id                                           question  category  \\\n",
       "0   dbpedia_1177  Was Jacqueline Kennedy Onassis a follower of M...   boolean   \n",
       "1  dbpedia_14427  What is the name of the opera based on Twelfth...  resource   \n",
       "2  dbpedia_16615  When did Lena Horne receive the Grammy Award f...   literal   \n",
       "3  dbpedia_23480  Do Prince Harry and Prince William have the sa...   boolean   \n",
       "4   dbpedia_3681  What is the subsidiary company working for Leo...  resource   \n",
       "\n",
       "                                                type  freq_type  \n",
       "0                                          [boolean]    boolean  \n",
       "1             [dbo:Opera, dbo:MusicalWork, dbo:Work]   dbo:Work  \n",
       "2                                             [date]       date  \n",
       "3                                          [boolean]    boolean  \n",
       "4  [dbo:EducationalInstitution, dbo:Organisation,...  dbo:Agent  "
      ]
     },
     "execution_count": 91,
     "metadata": {},
     "output_type": "execute_result"
    }
   ],
   "source": [
    "train_data[\"freq_type\"] = train_data.type.apply(lambda x: Extract_Most_Frequent_Answer_Type(x, answer_type_frequencies_sorted))\n",
    "train_data.head()"
   ]
  },
  {
   "cell_type": "code",
   "execution_count": 92,
   "metadata": {},
   "outputs": [
    {
     "data": {
      "text/html": [
       "<div>\n",
       "<style scoped>\n",
       "    .dataframe tbody tr th:only-of-type {\n",
       "        vertical-align: middle;\n",
       "    }\n",
       "\n",
       "    .dataframe tbody tr th {\n",
       "        vertical-align: top;\n",
       "    }\n",
       "\n",
       "    .dataframe thead th {\n",
       "        text-align: right;\n",
       "    }\n",
       "</style>\n",
       "<table border=\"1\" class=\"dataframe\">\n",
       "  <thead>\n",
       "    <tr style=\"text-align: right;\">\n",
       "      <th></th>\n",
       "      <th>id</th>\n",
       "      <th>question</th>\n",
       "      <th>category</th>\n",
       "      <th>type</th>\n",
       "      <th>category_predicted</th>\n",
       "      <th>freq_type</th>\n",
       "    </tr>\n",
       "  </thead>\n",
       "  <tbody>\n",
       "    <tr>\n",
       "      <th>0</th>\n",
       "      <td>dbpedia_16015</td>\n",
       "      <td>How many ingredients are in the grain} ?</td>\n",
       "      <td>literal</td>\n",
       "      <td>[number]</td>\n",
       "      <td>literal</td>\n",
       "      <td>number</td>\n",
       "    </tr>\n",
       "    <tr>\n",
       "      <th>1</th>\n",
       "      <td>dbpedia_3885</td>\n",
       "      <td>Is the case fatality rate of Fournier gangrene...</td>\n",
       "      <td>boolean</td>\n",
       "      <td>[boolean]</td>\n",
       "      <td>boolean</td>\n",
       "      <td>boolean</td>\n",
       "    </tr>\n",
       "    <tr>\n",
       "      <th>2</th>\n",
       "      <td>dbpedia_12907</td>\n",
       "      <td>Does the shelf life of spinach equal 8?</td>\n",
       "      <td>boolean</td>\n",
       "      <td>[boolean]</td>\n",
       "      <td>boolean</td>\n",
       "      <td>boolean</td>\n",
       "    </tr>\n",
       "    <tr>\n",
       "      <th>3</th>\n",
       "      <td>dbpedia_7955</td>\n",
       "      <td>What sound does a pig make in the French langu...</td>\n",
       "      <td>literal</td>\n",
       "      <td>[string]</td>\n",
       "      <td>resource</td>\n",
       "      <td>string</td>\n",
       "    </tr>\n",
       "    <tr>\n",
       "      <th>4</th>\n",
       "      <td>dbpedia_2376</td>\n",
       "      <td>When was Fergie completed his record label in ...</td>\n",
       "      <td>literal</td>\n",
       "      <td>[date]</td>\n",
       "      <td>literal</td>\n",
       "      <td>date</td>\n",
       "    </tr>\n",
       "  </tbody>\n",
       "</table>\n",
       "</div>"
      ],
      "text/plain": [
       "              id                                           question category  \\\n",
       "0  dbpedia_16015           How many ingredients are in the grain} ?  literal   \n",
       "1   dbpedia_3885  Is the case fatality rate of Fournier gangrene...  boolean   \n",
       "2  dbpedia_12907            Does the shelf life of spinach equal 8?  boolean   \n",
       "3   dbpedia_7955  What sound does a pig make in the French langu...  literal   \n",
       "4   dbpedia_2376  When was Fergie completed his record label in ...  literal   \n",
       "\n",
       "        type category_predicted freq_type  \n",
       "0   [number]            literal    number  \n",
       "1  [boolean]            boolean   boolean  \n",
       "2  [boolean]            boolean   boolean  \n",
       "3   [string]           resource    string  \n",
       "4     [date]            literal      date  "
      ]
     },
     "execution_count": 92,
     "metadata": {},
     "output_type": "execute_result"
    }
   ],
   "source": [
    "test_data[\"freq_type\"] = test_data.type.apply(lambda x: Extract_Most_Frequent_Answer_Type(x, answer_type_frequencies_sorted))\n",
    "test_data.head()"
   ]
  },
  {
   "cell_type": "markdown",
   "metadata": {},
   "source": [
    "Check for null values and remove them"
   ]
  },
  {
   "cell_type": "code",
   "execution_count": 93,
   "metadata": {},
   "outputs": [
    {
     "name": "stdout",
     "output_type": "stream",
     "text": [
      "Training Frequency Type nullvalues:  16\n",
      "Testing Frequency Type nullvalues:  0\n"
     ]
    }
   ],
   "source": [
    "print(\"Training Frequency Type nullvalues: \", train_data.freq_type.isnull().sum())\n",
    "print(\"Testing Frequency Type nullvalues: \", test_data.freq_type.isnull().sum())"
   ]
  },
  {
   "cell_type": "code",
   "execution_count": 94,
   "metadata": {},
   "outputs": [
    {
     "name": "stdout",
     "output_type": "stream",
     "text": [
      "Training Frequency Type nullvalues:  0\n"
     ]
    }
   ],
   "source": [
    "train_data = train_data[train_data.freq_type.notnull()]\n",
    "print(\"Training Frequency Type nullvalues: \", train_data.freq_type.isnull().sum())"
   ]
  },
  {
   "cell_type": "markdown",
   "metadata": {},
   "source": [
    "Next we extend category column to include the type in the case of literal category"
   ]
  },
  {
   "cell_type": "code",
   "execution_count": 95,
   "metadata": {},
   "outputs": [],
   "source": [
    "def Extend_Categories(row):\n",
    "    if row.category == \"literal\":\n",
    "        return row.freq_type\n",
    "    else:\n",
    "        return row.category"
   ]
  },
  {
   "cell_type": "code",
   "execution_count": 96,
   "metadata": {},
   "outputs": [
    {
     "data": {
      "text/html": [
       "<div>\n",
       "<style scoped>\n",
       "    .dataframe tbody tr th:only-of-type {\n",
       "        vertical-align: middle;\n",
       "    }\n",
       "\n",
       "    .dataframe tbody tr th {\n",
       "        vertical-align: top;\n",
       "    }\n",
       "\n",
       "    .dataframe thead th {\n",
       "        text-align: right;\n",
       "    }\n",
       "</style>\n",
       "<table border=\"1\" class=\"dataframe\">\n",
       "  <thead>\n",
       "    <tr style=\"text-align: right;\">\n",
       "      <th></th>\n",
       "      <th>category</th>\n",
       "      <th>freq_type</th>\n",
       "      <th>ext_category</th>\n",
       "    </tr>\n",
       "  </thead>\n",
       "  <tbody>\n",
       "    <tr>\n",
       "      <th>4022</th>\n",
       "      <td>literal</td>\n",
       "      <td>date</td>\n",
       "      <td>date</td>\n",
       "    </tr>\n",
       "    <tr>\n",
       "      <th>16717</th>\n",
       "      <td>literal</td>\n",
       "      <td>string</td>\n",
       "      <td>string</td>\n",
       "    </tr>\n",
       "    <tr>\n",
       "      <th>10276</th>\n",
       "      <td>literal</td>\n",
       "      <td>string</td>\n",
       "      <td>string</td>\n",
       "    </tr>\n",
       "    <tr>\n",
       "      <th>12742</th>\n",
       "      <td>literal</td>\n",
       "      <td>number</td>\n",
       "      <td>number</td>\n",
       "    </tr>\n",
       "    <tr>\n",
       "      <th>11553</th>\n",
       "      <td>literal</td>\n",
       "      <td>string</td>\n",
       "      <td>string</td>\n",
       "    </tr>\n",
       "  </tbody>\n",
       "</table>\n",
       "</div>"
      ],
      "text/plain": [
       "      category freq_type ext_category\n",
       "4022   literal      date         date\n",
       "16717  literal    string       string\n",
       "10276  literal    string       string\n",
       "12742  literal    number       number\n",
       "11553  literal    string       string"
      ]
     },
     "execution_count": 96,
     "metadata": {},
     "output_type": "execute_result"
    }
   ],
   "source": [
    "train_data[\"ext_category\"] = train_data.apply(Extend_Categories, axis=1)\n",
    "train_data.loc[train_data.category == \"literal\", [\"category\", \"freq_type\", \"ext_category\"]].sample(5)"
   ]
  },
  {
   "cell_type": "code",
   "execution_count": 97,
   "metadata": {},
   "outputs": [
    {
     "data": {
      "text/html": [
       "<div>\n",
       "<style scoped>\n",
       "    .dataframe tbody tr th:only-of-type {\n",
       "        vertical-align: middle;\n",
       "    }\n",
       "\n",
       "    .dataframe tbody tr th {\n",
       "        vertical-align: top;\n",
       "    }\n",
       "\n",
       "    .dataframe thead th {\n",
       "        text-align: right;\n",
       "    }\n",
       "</style>\n",
       "<table border=\"1\" class=\"dataframe\">\n",
       "  <thead>\n",
       "    <tr style=\"text-align: right;\">\n",
       "      <th></th>\n",
       "      <th>category</th>\n",
       "      <th>freq_type</th>\n",
       "      <th>ext_category</th>\n",
       "    </tr>\n",
       "  </thead>\n",
       "  <tbody>\n",
       "    <tr>\n",
       "      <th>228</th>\n",
       "      <td>literal</td>\n",
       "      <td>date</td>\n",
       "      <td>date</td>\n",
       "    </tr>\n",
       "    <tr>\n",
       "      <th>4004</th>\n",
       "      <td>literal</td>\n",
       "      <td>string</td>\n",
       "      <td>string</td>\n",
       "    </tr>\n",
       "    <tr>\n",
       "      <th>451</th>\n",
       "      <td>literal</td>\n",
       "      <td>date</td>\n",
       "      <td>date</td>\n",
       "    </tr>\n",
       "    <tr>\n",
       "      <th>2833</th>\n",
       "      <td>literal</td>\n",
       "      <td>string</td>\n",
       "      <td>string</td>\n",
       "    </tr>\n",
       "    <tr>\n",
       "      <th>3434</th>\n",
       "      <td>literal</td>\n",
       "      <td>number</td>\n",
       "      <td>number</td>\n",
       "    </tr>\n",
       "  </tbody>\n",
       "</table>\n",
       "</div>"
      ],
      "text/plain": [
       "     category freq_type ext_category\n",
       "228   literal      date         date\n",
       "4004  literal    string       string\n",
       "451   literal      date         date\n",
       "2833  literal    string       string\n",
       "3434  literal    number       number"
      ]
     },
     "execution_count": 97,
     "metadata": {},
     "output_type": "execute_result"
    }
   ],
   "source": [
    "test_data[\"ext_category\"] = test_data.apply(Extend_Categories, axis=1)\n",
    "test_data.loc[test_data.category == \"literal\", [\"category\", \"freq_type\", \"ext_category\"]].sample(5)"
   ]
  },
  {
   "cell_type": "markdown",
   "metadata": {},
   "source": [
    "### Frequent types prediction"
   ]
  },
  {
   "cell_type": "code",
   "execution_count": 98,
   "metadata": {},
   "outputs": [],
   "source": [
    "target = \"freq_type\"\n",
    "types_dict = {t: i for i, t in enumerate(train_data.append(test_data)[target].unique())}"
   ]
  },
  {
   "cell_type": "code",
   "execution_count": 99,
   "metadata": {},
   "outputs": [],
   "source": [
    "X_train = train_data.question\n",
    "Y_train = train_data[target].apply(lambda x: types_dict[x])\n",
    "\n",
    "X_test = test_data.question\n",
    "Y_test = test_data[target].apply(lambda x: types_dict[x])"
   ]
  },
  {
   "cell_type": "code",
   "execution_count": 100,
   "metadata": {},
   "outputs": [
    {
     "data": {
      "text/plain": [
       "Pipeline(steps=[('vect', TfidfVectorizer()), ('clf', SVC(probability=True))])"
      ]
     },
     "execution_count": 100,
     "metadata": {},
     "output_type": "execute_result"
    }
   ],
   "source": [
    "pipeline_type = Pipeline([\n",
    "    ('vect', TfidfVectorizer()),\n",
    "    ('clf', SVC(probability=True, kernel='rbf')),\n",
    "])\n",
    "pipeline_type.fit(X_train, Y_train)"
   ]
  },
  {
   "cell_type": "code",
   "execution_count": 101,
   "metadata": {},
   "outputs": [
    {
     "data": {
      "text/plain": [
       "0.7945674503538005"
      ]
     },
     "execution_count": 101,
     "metadata": {},
     "output_type": "execute_result"
    }
   ],
   "source": [
    "pipeline_type.score(X_test, Y_test)"
   ]
  },
  {
   "cell_type": "code",
   "execution_count": 102,
   "metadata": {},
   "outputs": [
    {
     "data": {
      "text/plain": [
       "['number', 'boolean', 'boolean', 'dbo:Agent', 'date']"
      ]
     },
     "execution_count": 102,
     "metadata": {},
     "output_type": "execute_result"
    }
   ],
   "source": [
    "predictions = pipeline_type.predict(X_test)\n",
    "\n",
    "# map predictions to types\n",
    "predictions = [list(types_dict.keys())[list(types_dict.values()).index(p)] for p in predictions]\n",
    "predictions[:5]"
   ]
  },
  {
   "cell_type": "code",
   "execution_count": 103,
   "metadata": {},
   "outputs": [
    {
     "data": {
      "text/html": [
       "<div>\n",
       "<style scoped>\n",
       "    .dataframe tbody tr th:only-of-type {\n",
       "        vertical-align: middle;\n",
       "    }\n",
       "\n",
       "    .dataframe tbody tr th {\n",
       "        vertical-align: top;\n",
       "    }\n",
       "\n",
       "    .dataframe thead th {\n",
       "        text-align: right;\n",
       "    }\n",
       "</style>\n",
       "<table border=\"1\" class=\"dataframe\">\n",
       "  <thead>\n",
       "    <tr style=\"text-align: right;\">\n",
       "      <th></th>\n",
       "      <th>id</th>\n",
       "      <th>question</th>\n",
       "      <th>category</th>\n",
       "      <th>type</th>\n",
       "      <th>category_predicted</th>\n",
       "      <th>freq_type</th>\n",
       "      <th>ext_category</th>\n",
       "      <th>type_predicted</th>\n",
       "    </tr>\n",
       "  </thead>\n",
       "  <tbody>\n",
       "    <tr>\n",
       "      <th>0</th>\n",
       "      <td>dbpedia_16015</td>\n",
       "      <td>How many ingredients are in the grain} ?</td>\n",
       "      <td>literal</td>\n",
       "      <td>[number]</td>\n",
       "      <td>literal</td>\n",
       "      <td>number</td>\n",
       "      <td>number</td>\n",
       "      <td>number</td>\n",
       "    </tr>\n",
       "    <tr>\n",
       "      <th>1</th>\n",
       "      <td>dbpedia_3885</td>\n",
       "      <td>Is the case fatality rate of Fournier gangrene...</td>\n",
       "      <td>boolean</td>\n",
       "      <td>[boolean]</td>\n",
       "      <td>boolean</td>\n",
       "      <td>boolean</td>\n",
       "      <td>boolean</td>\n",
       "      <td>boolean</td>\n",
       "    </tr>\n",
       "    <tr>\n",
       "      <th>2</th>\n",
       "      <td>dbpedia_12907</td>\n",
       "      <td>Does the shelf life of spinach equal 8?</td>\n",
       "      <td>boolean</td>\n",
       "      <td>[boolean]</td>\n",
       "      <td>boolean</td>\n",
       "      <td>boolean</td>\n",
       "      <td>boolean</td>\n",
       "      <td>boolean</td>\n",
       "    </tr>\n",
       "    <tr>\n",
       "      <th>3</th>\n",
       "      <td>dbpedia_7955</td>\n",
       "      <td>What sound does a pig make in the French langu...</td>\n",
       "      <td>literal</td>\n",
       "      <td>[string]</td>\n",
       "      <td>resource</td>\n",
       "      <td>string</td>\n",
       "      <td>string</td>\n",
       "      <td>dbo:Agent</td>\n",
       "    </tr>\n",
       "    <tr>\n",
       "      <th>4</th>\n",
       "      <td>dbpedia_2376</td>\n",
       "      <td>When was Fergie completed his record label in ...</td>\n",
       "      <td>literal</td>\n",
       "      <td>[date]</td>\n",
       "      <td>literal</td>\n",
       "      <td>date</td>\n",
       "      <td>date</td>\n",
       "      <td>date</td>\n",
       "    </tr>\n",
       "  </tbody>\n",
       "</table>\n",
       "</div>"
      ],
      "text/plain": [
       "              id                                           question category  \\\n",
       "0  dbpedia_16015           How many ingredients are in the grain} ?  literal   \n",
       "1   dbpedia_3885  Is the case fatality rate of Fournier gangrene...  boolean   \n",
       "2  dbpedia_12907            Does the shelf life of spinach equal 8?  boolean   \n",
       "3   dbpedia_7955  What sound does a pig make in the French langu...  literal   \n",
       "4   dbpedia_2376  When was Fergie completed his record label in ...  literal   \n",
       "\n",
       "        type category_predicted freq_type ext_category type_predicted  \n",
       "0   [number]            literal    number       number         number  \n",
       "1  [boolean]            boolean   boolean      boolean        boolean  \n",
       "2  [boolean]            boolean   boolean      boolean        boolean  \n",
       "3   [string]           resource    string       string      dbo:Agent  \n",
       "4     [date]            literal      date         date           date  "
      ]
     },
     "execution_count": 103,
     "metadata": {},
     "output_type": "execute_result"
    }
   ],
   "source": [
    "# add predictions to test data\n",
    "test_data[\"type_predicted\"] = predictions\n",
    "test_data.head()"
   ]
  },
  {
   "cell_type": "code",
   "execution_count": 104,
   "metadata": {},
   "outputs": [
    {
     "data": {
      "text/html": [
       "<div>\n",
       "<style scoped>\n",
       "    .dataframe tbody tr th:only-of-type {\n",
       "        vertical-align: middle;\n",
       "    }\n",
       "\n",
       "    .dataframe tbody tr th {\n",
       "        vertical-align: top;\n",
       "    }\n",
       "\n",
       "    .dataframe thead th {\n",
       "        text-align: right;\n",
       "    }\n",
       "</style>\n",
       "<table border=\"1\" class=\"dataframe\">\n",
       "  <thead>\n",
       "    <tr style=\"text-align: right;\">\n",
       "      <th></th>\n",
       "      <th>category</th>\n",
       "      <th>freq_type</th>\n",
       "      <th>ext_category</th>\n",
       "      <th>type_predicted</th>\n",
       "    </tr>\n",
       "  </thead>\n",
       "  <tbody>\n",
       "    <tr>\n",
       "      <th>1566</th>\n",
       "      <td>resource</td>\n",
       "      <td>dbo:Work</td>\n",
       "      <td>resource</td>\n",
       "      <td>dbo:Work</td>\n",
       "    </tr>\n",
       "    <tr>\n",
       "      <th>986</th>\n",
       "      <td>resource</td>\n",
       "      <td>dbo:Case</td>\n",
       "      <td>resource</td>\n",
       "      <td>dbo:Agent</td>\n",
       "    </tr>\n",
       "    <tr>\n",
       "      <th>1763</th>\n",
       "      <td>resource</td>\n",
       "      <td>dbo:Agent</td>\n",
       "      <td>resource</td>\n",
       "      <td>dbo:Agent</td>\n",
       "    </tr>\n",
       "    <tr>\n",
       "      <th>808</th>\n",
       "      <td>resource</td>\n",
       "      <td>dbo:Agent</td>\n",
       "      <td>resource</td>\n",
       "      <td>dbo:Agent</td>\n",
       "    </tr>\n",
       "    <tr>\n",
       "      <th>2842</th>\n",
       "      <td>resource</td>\n",
       "      <td>dbo:Event</td>\n",
       "      <td>resource</td>\n",
       "      <td>dbo:Agent</td>\n",
       "    </tr>\n",
       "  </tbody>\n",
       "</table>\n",
       "</div>"
      ],
      "text/plain": [
       "      category  freq_type ext_category type_predicted\n",
       "1566  resource   dbo:Work     resource       dbo:Work\n",
       "986   resource   dbo:Case     resource      dbo:Agent\n",
       "1763  resource  dbo:Agent     resource      dbo:Agent\n",
       "808   resource  dbo:Agent     resource      dbo:Agent\n",
       "2842  resource  dbo:Event     resource      dbo:Agent"
      ]
     },
     "execution_count": 104,
     "metadata": {},
     "output_type": "execute_result"
    }
   ],
   "source": [
    "test_data.loc[test_data.category == \"resource\", [\"category\", \"freq_type\", \"ext_category\", \"type_predicted\"]].sample(5)"
   ]
  }
 ],
 "metadata": {
  "kernelspec": {
   "display_name": "Python 3.9.6 64-bit",
   "language": "python",
   "name": "python3"
  },
  "language_info": {
   "codemirror_mode": {
    "name": "ipython",
    "version": 3
   },
   "file_extension": ".py",
   "mimetype": "text/x-python",
   "name": "python",
   "nbconvert_exporter": "python",
   "pygments_lexer": "ipython3",
   "version": "3.9.6"
  },
  "orig_nbformat": 4,
  "vscode": {
   "interpreter": {
    "hash": "81794d4967e6c3204c66dcd87b604927b115b27c00565d3d43f05ba2f3a2cb0d"
   }
  }
 },
 "nbformat": 4,
 "nbformat_minor": 2
}
