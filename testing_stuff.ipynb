{
 "cells": [
  {
   "cell_type": "code",
   "execution_count": 1,
   "metadata": {},
   "outputs": [
    {
     "name": "stderr",
     "output_type": "stream",
     "text": [
      "[nltk_data] Downloading package stopwords to\n",
      "[nltk_data]     /home/azureuser/nltk_data...\n",
      "[nltk_data]   Package stopwords is already up-to-date!\n"
     ]
    }
   ],
   "source": [
    "from config import *\n",
    "import json\n",
    "import re\n",
    "import string\n",
    "import nltk\n",
    "from nltk.corpus import stopwords\n",
    "\n",
    "# download stopwords\n",
    "nltk.download('stopwords')\n",
    "\n",
    "# load stopwords\n",
    "stop_words = set(stopwords.words('english'))"
   ]
  },
  {
   "cell_type": "code",
   "execution_count": 2,
   "metadata": {},
   "outputs": [
    {
     "name": "stdout",
     "output_type": "stream",
     "text": [
      "/mntnvme/datasets /mntnvme/datasets/DBpedia/smarttask_dbpedia_train.json /mntnvme/datasets/DBpedia/smarttask_dbpedia_test_questions.json /mntnvme/datasets/DBpedia/short_abstracts_en.ttl /mntnvme/datasets/DBpedia/instance_types_en.ttl\n"
     ]
    }
   ],
   "source": [
    "print(DATASETS_PATH, QUERY_TRAIN_PATH, QUERY_TEST_PATH, SHORT_ABSTRACT_PATH, INSTANCE_TYPES_EN_PATH)"
   ]
  },
  {
   "cell_type": "code",
   "execution_count": 3,
   "metadata": {},
   "outputs": [],
   "source": [
    "def head(path, n=5, encoding=\"utf-8\"):\n",
    "    res = []\n",
    "    if n <= 0:\n",
    "        return res\n",
    "    with open(path, encoding=encoding) as f:\n",
    "        for i, line in enumerate(f):\n",
    "            if i >= n:\n",
    "                break\n",
    "            res.append(line)\n",
    "            if i < 5:\n",
    "                print(line)\n",
    "    return res"
   ]
  },
  {
   "cell_type": "code",
   "execution_count": 11,
   "metadata": {},
   "outputs": [
    {
     "name": "stdout",
     "output_type": "stream",
     "text": [
      "# started 2017-03-31T16:36:17Z\n",
      "\n",
      "<http://dbpedia.org/resource/Anarchism> <http://www.w3.org/1999/02/22-rdf-syntax-ns#type> <http://www.w3.org/2002/07/owl#Thing> .\n",
      "\n",
      "<http://dbpedia.org/resource/Achilles> <http://www.w3.org/1999/02/22-rdf-syntax-ns#type> <http://www.w3.org/2002/07/owl#Thing> .\n",
      "\n",
      "<http://dbpedia.org/resource/Autism> <http://www.w3.org/1999/02/22-rdf-syntax-ns#type> <http://dbpedia.org/ontology/Disease> .\n",
      "\n",
      "<http://dbpedia.org/resource/Alabama> <http://www.w3.org/1999/02/22-rdf-syntax-ns#type> <http://dbpedia.org/ontology/AdministrativeRegion> .\n",
      "\n",
      "----------------------------------------\n",
      "# started 2017-02-07T14:14:05Z\n",
      "\n",
      "<http://dbpedia.org/resource/Animalia_(book)> <http://www.w3.org/2000/01/rdf-schema#comment> \"Animalia is an illustrated children's book by Graeme Base. It was originally published in 1986, followed by a tenth anniversary edition in 1996, and a 25th anniversary edition in 2012. Over three million copies have been sold. A special numbered and signed anniversary edition was also published in 1996, with an embossed gold jacket.\"@en .\n",
      "\n",
      "<http://dbpedia.org/resource/Actrius> <http://www.w3.org/2000/01/rdf-schema#comment> \"Actresses (Catalan: Actrius) is a 1997 Catalan language Spanish drama film produced and directed by Ventura Pons and based on the award-winning stage play E.R. by Josep Maria Benet i Jornet. The film has no male actors, with all roles played by females. The film was produced in 1996.\"@en .\n",
      "\n",
      "<http://dbpedia.org/resource/Alain_Connes> <http://www.w3.org/2000/01/rdf-schema#comment> \"Alain Connes (French: [alɛ̃ kɔn]; born 1 April 1947) is a French mathematician, currently Professor at the Collège de France, IHÉS, The Ohio State University and Vanderbilt University. He was an Invited Professor at the Conservatoire national des arts et métiers (2000).\"@en .\n",
      "\n",
      "<http://dbpedia.org/resource/An_American_in_Paris> <http://www.w3.org/2000/01/rdf-schema#comment> \"An American in Paris is a jazz-influenced symphonic poem by the American composer George Gershwin, written in 1928. Inspired by the time Gershwin had spent in Paris, it evokes the sights and energy of the French capital in the 1920s and is one of his best-known compositions.\"@en .\n",
      "\n"
     ]
    }
   ],
   "source": [
    "instance_types = head(INSTANCE_TYPES_EN_PATH, 100)\n",
    "print(\"--\" * 20)\n",
    "short_abstracts = head(SHORT_ABSTRACT_PATH, 100)"
   ]
  },
  {
   "cell_type": "code",
   "execution_count": 6,
   "metadata": {},
   "outputs": [],
   "source": [
    "def preprocess(line, remove_stopwords=False):\n",
    "    line = line.strip().lower().replace(\"_\", \" \").translate(str.maketrans('', '', string.punctuation))\n",
    "    return \" \".join([\n",
    "        term \n",
    "        for term in re.sub(r\"\\s+\", \" \", line).split(\" \") \n",
    "        if term not in stop_words\n",
    "    ]).strip() if remove_stopwords else line"
   ]
  },
  {
   "cell_type": "code",
   "execution_count": 7,
   "metadata": {},
   "outputs": [],
   "source": [
    "def parse_instance_types(line):\n",
    "    if line == None or line[0] == \"#\":\n",
    "        return\n",
    "    \n",
    "    line = line.strip().replace('/>', '>').split(' ')\n",
    "    if len(line) < 3:\n",
    "        return\n",
    "    entity = preprocess(line[0][1:-1].split(\"/\")[-1]) # remove < and >, get entity + preprocess\n",
    "    instance_type = preprocess(line[2][1:-1].split(\"/\")[-1][4:]) # remove < and >, get instance type + preprocess\n",
    "    return {\n",
    "        \"_id\": entity,\n",
    "        \"doc\" : {\"instance_type\": instance_type},\n",
    "        \"_op_type\": \"update\"\n",
    "    }"
   ]
  },
  {
   "cell_type": "code",
   "execution_count": 8,
   "metadata": {},
   "outputs": [
    {
     "name": "stdout",
     "output_type": "stream",
     "text": [
      "{'_id': 'anarchism', 'doc': {'instance_type': 'thing'}, '_op_type': 'update'}\n"
     ]
    }
   ],
   "source": [
    "instance_types_test = parse_instance_types(instance_types[1])\n",
    "print(instance_types_test)"
   ]
  },
  {
   "cell_type": "code",
   "execution_count": 9,
   "metadata": {},
   "outputs": [],
   "source": [
    "def parse_abstracts(line):\n",
    "    if line == None or line[0] == \"#\":\n",
    "        return\n",
    "    \n",
    "    line = line.strip().replace('@en .', '') \\\n",
    "        .replace('\"', '').replace('\\\\', '') \\\n",
    "        .replace('\\'', '').replace('/>', '>').split(' ')\n",
    "\n",
    "    if len(line) < 3:\n",
    "        return\n",
    "    entity = preprocess(line[0][1:-1].split(\"/\")[-1])\n",
    "    abstract = preprocess(' '.join(line[2:]), True)\n",
    "    return {\n",
    "        \"_id\": entity,\n",
    "        \"_source\": {\"abstract\": abstract, \"instance_type\": \"_\"}\n",
    "    }"
   ]
  },
  {
   "cell_type": "code",
   "execution_count": 10,
   "metadata": {},
   "outputs": [
    {
     "name": "stdout",
     "output_type": "stream",
     "text": [
      "{'_id': 'animalia book', '_source': {'abstract': 'animalia illustrated childrens book graeme base originally published 1986 followed tenth anniversary edition 1996 25th anniversary edition 2012 three million copies sold special numbered signed anniversary edition also published 1996 embossed gold jacket', 'instance_type': '_'}}\n"
     ]
    }
   ],
   "source": [
    "abstract_test = parse_abstracts(short_abstracts[1])\n",
    "print(abstract_test)"
   ]
  }
 ],
 "metadata": {
  "kernelspec": {
   "display_name": "Python 3.10.8 ('DAT640-FinalProject': conda)",
   "language": "python",
   "name": "python3"
  },
  "language_info": {
   "codemirror_mode": {
    "name": "ipython",
    "version": 3
   },
   "file_extension": ".py",
   "mimetype": "text/x-python",
   "name": "python",
   "nbconvert_exporter": "python",
   "pygments_lexer": "ipython3",
   "version": "3.10.8"
  },
  "orig_nbformat": 4,
  "vscode": {
   "interpreter": {
    "hash": "2a85ede89b8b87632f57146d9f8a348b533f0abc2abbbf71b5bec859c7399448"
   }
  }
 },
 "nbformat": 4,
 "nbformat_minor": 2
}
